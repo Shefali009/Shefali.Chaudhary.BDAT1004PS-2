{
 "cells": [
  {
   "cell_type": "markdown",
   "id": "0de69bd6",
   "metadata": {},
   "source": [
    "# Problem Set 2 Solutions"
   ]
  },
  {
   "cell_type": "markdown",
   "id": "522cf563",
   "metadata": {},
   "source": [
    "### Solution 1:"
   ]
  },
  {
   "cell_type": "code",
   "execution_count": 11,
   "id": "7cd310f1",
   "metadata": {},
   "outputs": [
    {
     "data": {
      "text/plain": [
       "6"
      ]
     },
     "execution_count": 11,
     "metadata": {},
     "output_type": "execute_result"
    }
   ],
   "source": [
    "a = 0\n",
    "def b():\n",
    " global a\n",
    " a = c(a)\n",
    "def c(a):\n",
    " return a + 2\n",
    "\n",
    "b()\n",
    "b()\n",
    "b()\n",
    "a"
   ]
  },
  {
   "cell_type": "markdown",
   "id": "cd7c7d5b",
   "metadata": {},
   "source": [
    "<html>\n",
    "    <h3><font color='Green'>Explanation</font></h3>\n",
    "    <body>\n",
    "        <p>\n",
    "        Initially the value of a is 0 but function b refers to the global variable a and uses that value to call function c which then increments the global variable a by 2.\n",
    "        </p>\n",
    "        <ul>\n",
    "            <li>First function call is made and the value of a is incremented by 2. Now global variable a = 2</li>\n",
    "            <li>Second function call is made and the value of a = 2 is again incremented. Now global variable a = 4</li>\n",
    "            <li>Third function call is made and the value of a = 4 is again incremented by 2. Finally global variable a = 6</li>\n",
    "        </ul>\n",
    "    </body>\n",
    "    </html>"
   ]
  },
  {
   "cell_type": "markdown",
   "id": "509b537f",
   "metadata": {},
   "source": [
    "### Solution 2:"
   ]
  },
  {
   "cell_type": "code",
   "execution_count": 14,
   "id": "582d6877",
   "metadata": {},
   "outputs": [
    {
     "name": "stdout",
     "output_type": "stream",
     "text": [
      "123\n",
      "File idterm.py not found\n"
     ]
    }
   ],
   "source": [
    "def fileLength(fileName):\n",
    "    try:\n",
    "        infile = open(fileName)\n",
    "        contents = infile.read()\n",
    "        infile.close()\n",
    "        print(len(contents))        \n",
    "    except:\n",
    "        print(\"File {} not found\".format(fileName))\n",
    "    \n",
    "fileLength('Filelength.txt')\n",
    "fileLength('idterm.py')"
   ]
  },
  {
   "cell_type": "markdown",
   "id": "97cfec33",
   "metadata": {},
   "source": [
    "### Solution 3:"
   ]
  },
  {
   "cell_type": "code",
   "execution_count": 21,
   "id": "d5ecb942",
   "metadata": {},
   "outputs": [
    {
     "name": "stdout",
     "output_type": "stream",
     "text": [
      "I am a Kangaroo located at coordinates (0,0)\n",
      "['doll', 'firetruck', 'kitten']\n",
      "I am a Kangaroo located at coordinates (3,0)\n"
     ]
    }
   ],
   "source": [
    "class Marsupial:\n",
    "    def __init__(self):\n",
    "        self.contents = []\n",
    "    def put_in_pouch(self, item):\n",
    "        self.contents.append(item)\n",
    "    def pouch_contents(self):\n",
    "        print(self.contents)\n",
    "        #return self.contents\n",
    "    \n",
    "class Kangaroo(Marsupial):\n",
    "    'represent a Kangaroo'\n",
    "    def __init__(self, xcoord = 0, ycoord = 0):\n",
    "        'initializes point coordinates to (xcoord , ycoord)'\n",
    "        self.x = xcoord\n",
    "        self.y = ycoord\n",
    "        Marsupial.__init__(self)\n",
    "    def jump(self, dx, dy):\n",
    "        self.x += dx\n",
    "        self.y += dy\n",
    "    def __str__(self):\n",
    "        return \"I am a Kangaroo located at coordinates ({},{})\".format(self.x,self.y)\n",
    "\n",
    "k = Kangaroo()\n",
    "print(k)\n",
    "k.put_in_pouch('doll')\n",
    "k.put_in_pouch('firetruck')\n",
    "k.put_in_pouch('kitten')\n",
    "\n",
    "k.pouch_contents()\n",
    "\n",
    "k.jump(1,0)\n",
    "k.jump(1,0)\n",
    "k.jump(1,0)\n",
    "\n",
    "print(k)   \n",
    "\n",
    "#k2 = Kangaroo(2,3)\n",
    "#print(k2)"
   ]
  },
  {
   "cell_type": "markdown",
   "id": "2c304fdd",
   "metadata": {},
   "source": [
    "### Solution 4:"
   ]
  },
  {
   "cell_type": "code",
   "execution_count": 8,
   "id": "b0163874",
   "metadata": {},
   "outputs": [
    {
     "name": "stdout",
     "output_type": "stream",
     "text": [
      "1\n",
      "\n",
      "\n",
      "10\n",
      "5\n",
      "16\n",
      "8\n",
      "4\n",
      "2\n",
      "1\n"
     ]
    }
   ],
   "source": [
    "def collatz(x):\n",
    "    if x==1:\n",
    "        print(x)\n",
    "    else:\n",
    "        if(x % 2 == 0):\n",
    "            print(x)\n",
    "            collatz(x//2)\n",
    "        else:\n",
    "            print(x)\n",
    "            collatz(3*x+1)\n",
    "            \n",
    "collatz(1)     \n",
    "print('\\n')\n",
    "collatz(10)"
   ]
  },
  {
   "cell_type": "markdown",
   "id": "61864a17",
   "metadata": {},
   "source": [
    "### Solution 5:"
   ]
  },
  {
   "cell_type": "code",
   "execution_count": 3,
   "id": "7b617129",
   "metadata": {
    "scrolled": true
   },
   "outputs": [
    {
     "name": "stdout",
     "output_type": "stream",
     "text": [
      "0\n",
      "\n",
      "1\n",
      "\n",
      "11\n",
      "\n",
      "1001"
     ]
    }
   ],
   "source": [
    "def binary(n):  \n",
    "    if n >1: \n",
    "        binary(n//2)\n",
    "                \n",
    "    value = n%2\n",
    "    print(value, end ='')    \n",
    "\n",
    "binary(0)\n",
    "print('\\n')\n",
    "binary(1)\n",
    "print('\\n')\n",
    "binary(3)\n",
    "print('\\n')\n",
    "binary(9)       "
   ]
  },
  {
   "cell_type": "markdown",
   "id": "49dac5f2",
   "metadata": {},
   "source": [
    "### Solution 6:"
   ]
  },
  {
   "cell_type": "code",
   "execution_count": 91,
   "id": "f684a149",
   "metadata": {},
   "outputs": [
    {
     "name": "stdout",
     "output_type": "stream",
     "text": [
      " W3C Mission\n",
      "  Principles\n"
     ]
    }
   ],
   "source": [
    "from re import findall\n",
    "from html.parser import HTMLParser\n",
    "\n",
    "class HeadingParser(HTMLParser):\n",
    "    Heading = False\n",
    "    \n",
    "    def __init__(self):\n",
    "        'initializes the parser and the initial indentation'\n",
    "        HTMLParser.__init__(self)\n",
    "        self.indent = 0   # initial indentation value\n",
    "        \n",
    "    \n",
    "    def handle_starttag(self, tag, attrs):\n",
    "        for i in range(100):\n",
    "            if tag == \"h\"+str(i):\n",
    "                self.Heading = True\n",
    "                \n",
    "            \n",
    "    def handle_data(self, data):\n",
    "        if self.Heading == True:\n",
    "            print(self.indent*' ',data)\n",
    "            self.indent +=1 \n",
    "            \n",
    "    def handle_endtag(self, tag):\n",
    "        for i in range(100):\n",
    "            if tag == \"h\"+str(i):\n",
    "                self.Heading = False      \n",
    "    \n",
    "infile = open('w3c.html')\n",
    "html = infile.read()\n",
    "infile.close()\n",
    "\n",
    "hp = HeadingParser()\n",
    "hp.feed(html)   "
   ]
  },
  {
   "cell_type": "markdown",
   "id": "5a22ab08",
   "metadata": {},
   "source": [
    "### Solution 7:"
   ]
  },
  {
   "cell_type": "code",
   "execution_count": 28,
   "id": "32717ce9",
   "metadata": {},
   "outputs": [
    {
     "name": "stdout",
     "output_type": "stream",
     "text": [
      " http://www.w3c.org/Consortium/facts.html\n"
     ]
    }
   ],
   "source": [
    "from urllib.request import urlopen\n",
    "from urllib.parse import urljoin\n",
    "from html.parser import HTMLParser\n",
    "import re\n",
    "\n",
    "class Collector(HTMLParser):\n",
    "    'collects hyperlink URLs into a list'\n",
    "    \n",
    "    \n",
    "    def __init__(self, url):\n",
    "        'initializes parser, the url, and a list'\n",
    "        HTMLParser.__init__(self)\n",
    "        self.url = url\n",
    "        self.links = []\n",
    "\n",
    "    \n",
    "    def handle_starttag(self, tag, attrs):\n",
    "        'collects hyperlink URLs in their absolute format'\n",
    "        if tag == 'a':\n",
    "            for attr in attrs:\n",
    "                if attr[0] == 'href':\n",
    "                    # construct absolute URL\n",
    "                    absolute = urljoin(self.url, attr[1])\n",
    "                    if absolute[:4] == 'http': # collect HTTP URLs\n",
    "                        self.links.append(absolute)\n",
    "                        \n",
    "    def getLinks(self):\n",
    "        'returns hyperlinks URLs in their absolute format'\n",
    "        return self.links\n",
    "\n",
    "\n",
    "visited = [] # initialize visited to an empty list\n",
    "\n",
    "def analyze(url, depth, indent):\n",
    "    initial_depth = 1\n",
    "\n",
    "    print(indent*' ',url)           \n",
    "    # obtain links in the web page\n",
    "    indent += 1\n",
    "    content = urlopen(url).read().decode()\n",
    "    collector = Collector(url)\n",
    "    collector.feed(content)\n",
    "    #if initial_depth < depth:\n",
    "    urls = collector.getLinks()          # get list of links\n",
    "    #initial_depth +=1\n",
    "    return urls\n",
    "\n",
    "def webdir(url, depth, indent):    \n",
    "    # add url to set of visited pages\n",
    "    global visited      \n",
    "    visited.append(url)\n",
    "\n",
    "    # analyze() returns a list of hyperlink URLs in web page url \n",
    "    links = analyze(url, depth, indent)\n",
    "    \n",
    "    for link in links:\n",
    "        # follow link only if not visited\n",
    "        if link not in visited:\n",
    "            try:\n",
    "                webdir(link)\n",
    "            except:\n",
    "                pass\n",
    "\n",
    "        \n",
    "webdir('http://www.w3c.org/Consortium/facts.html', 3, 0)\n"
   ]
  },
  {
   "cell_type": "markdown",
   "id": "7c37e0d3",
   "metadata": {},
   "source": [
    "### Solution 8:"
   ]
  },
  {
   "cell_type": "code",
   "execution_count": 27,
   "id": "934acd2c",
   "metadata": {},
   "outputs": [
    {
     "name": "stdout",
     "output_type": "stream",
     "text": [
      "All the temperature data\n",
      "[(24.8,), (28.4,), (27.9,), (27.6,), (4.2,), (8.3,), (15.7,), (10.4,), (13.6,), (20.7,), (27.7,), (22.2,)]\n",
      "\n",
      "All the cities, but without repetition\n",
      "('Mumbai',)\n",
      "('London',)\n",
      "('Cairo',)\n",
      "\n",
      "All the records for India\n",
      "('Mumbai', 'India', 'Winter', 24.8, 5.9)\n",
      "('Mumbai', 'India', 'Spring', 28.4, 16.2)\n",
      "('Mumbai', 'India', 'Summer', 27.9, 1549.4)\n",
      "('Mumbai', 'India', 'Fall', 27.6, 346.0)\n",
      "\n",
      "All the Fall records\n",
      "('Mumbai', 'India', 'Fall', 27.6, 346.0)\n",
      "('London', 'United Kingdom', 'Fall', 10.4, 218.5)\n",
      "('Cairo', 'Egypt', 'Fall', 22.2, 4.5)\n",
      "\n",
      "The city, country, and season for which the average rainfall is between 200 and 400 millimeters\n",
      "('Mumbai', 'India', 'Fall')\n",
      "('London', 'United Kingdom', 'Winter')\n",
      "('London', 'United Kingdom', 'Fall')\n",
      "\n",
      "The city and country for which the average Fall temperature is above 20 degrees, in increasing temperature order\n",
      "('Cairo', 'Egypt', 22.2)\n",
      "('Mumbai', 'India', 27.6)\n",
      "\n",
      "The total annual rainfall for Cairo\n",
      "(27.6,)\n",
      "\n",
      "The total rainfall for each season.\n",
      "('Fall', 569.0)\n",
      "('Spring', 192.3)\n",
      "('Summer', 1706.5)\n",
      "('Winter', 230.1)\n"
     ]
    }
   ],
   "source": [
    "import sqlite3\n",
    "\n",
    "con = sqlite3.connect('weather.db')\n",
    "cur = con.cursor()\n",
    "\n",
    "#cur.execute(\"CREATE TABLE Weather (City text, Country text, Season text, Temperature_C float, Rainfall_mm float)\")\n",
    "\n",
    "List = [('Mumbai', 'India', 'Winter', 24.8, 5.9), ('Mumbai', 'India', 'Spring', 28.4, 16.2), ('Mumbai', 'India', 'Summer', 27.9, 1549.4), ('Mumbai', 'India', 'Fall', 27.6, 346), ('London', 'United Kingdom', 'Winter', 4.2, 207.7), ('London', 'United Kingdom', 'Spring', 8.3, 169.6), ('London', 'United Kingdom', 'Summer', 15.7, 157), ('London', 'United Kingdom', 'Fall', 10.4, 218.5), ('Cairo', 'Egypt', 'Winter', 13.6, 16.5), ('Cairo', 'Egypt', 'Spring', 20.7, 6.5), ('Cairo', 'Egypt', 'Summer', 27.7, 0.1), ('Cairo', 'Egypt', 'Fall', 22.2, 4.5)]\n",
    " \n",
    "#cur.executemany(\"INSERT INTO Weather (City, Country, Season, Temperature_C, Rainfall_mm) VALUES (?, ?, ?, ?, ?)\", List)\n",
    "\n",
    "#cur.execute(\"Select * from Weather\")\n",
    "#for record in cur:\n",
    "#    print(record)\n",
    "\n",
    "print('All the temperature data')\n",
    "cur.execute(\"\"\"Select Temperature_C as 'Temperature (C)' \n",
    "                from Weather\"\"\")\n",
    "print(cur.fetchall())\n",
    "\n",
    "print('\\n' +'All the cities, but without repetition')\n",
    "cur.execute(\"\"\"Select Distinct City \n",
    "                from Weather\"\"\")\n",
    "for record in cur:\n",
    "    print(record)\n",
    "\n",
    "print('\\n' +'All the records for India')\n",
    "cur.execute(\"\"\"Select * from Weather \n",
    "                Where Country = 'India'\"\"\")\n",
    "for record in cur:\n",
    "    print(record)\n",
    "\n",
    "print('\\n' +'All the Fall records')\n",
    "cur.execute(\"\"\"Select * from Weather \n",
    "                Where Season = 'Fall'\"\"\")\n",
    "for record in cur:\n",
    "    print(record)\n",
    "\n",
    "print('\\n' +'The city, country, and season for which the average rainfall is between 200 and 400 millimeters')\n",
    "cur.execute(\"\"\"Select City, Country, Season \n",
    "                from Weather\n",
    "                Where Rainfall_mm Between 200 And 400\"\"\")\n",
    "for record in cur:\n",
    "    print(record)\n",
    "\n",
    "print('\\n' +'The city and country for which the average Fall temperature is above 20 degrees, in increasing temperature order')\n",
    "cur.execute(\"\"\"Select City, Country, Temperature_C from Weather \n",
    "                Where Season = 'Fall' \n",
    "                Group by Temperature_C\n",
    "                Having Avg(Temperature_C) > 20 \n",
    "                Order by Temperature_C\"\"\")\n",
    "for record in cur:\n",
    "    print(record)\n",
    "    \n",
    "print('\\n' +'The total annual rainfall for Cairo')\n",
    "cur.execute(\"\"\"Select Sum(Rainfall_mm) \n",
    "                from Weather\n",
    "                Where City = 'Cairo'\"\"\")\n",
    "for record in cur:\n",
    "    print(record) \n",
    "    \n",
    "print('\\n' +'The total rainfall for each season.')\n",
    "cur.execute(\"\"\"Select Season, Round(Sum(Rainfall_mm),1) \n",
    "                from Weather\n",
    "                Group by Season\"\"\")\n",
    "for record in cur:\n",
    "    print(record)   \n",
    "\n",
    "con.commit()\n",
    "con.close()"
   ]
  },
  {
   "cell_type": "markdown",
   "id": "c68d74c0",
   "metadata": {},
   "source": [
    "### Solution 9:"
   ]
  },
  {
   "cell_type": "code",
   "execution_count": 9,
   "id": "030c691f",
   "metadata": {},
   "outputs": [
    {
     "name": "stdout",
     "output_type": "stream",
     "text": [
      "['THE', 'QUICK', 'BROWN', 'FOX', 'JUMPS', 'OVER', 'THE', 'LAZY', 'DOG']\n",
      "\n",
      "\n",
      "['the', 'quick', 'brown', 'fox', 'jumps', 'over', 'the', 'lazy', 'dog']\n",
      "\n",
      "\n",
      "[3, 5, 5, 3, 5, 4, 3, 4, 3]\n",
      "\n",
      "\n",
      "[['THE', 'the', 3], ['QUICK', 'quick', 5], ['BROWN', 'brown', 5], ['FOX', 'fox', 3], ['JUMPS', 'jumps', 5], ['OVER', 'over', 4], ['THE', 'the', 3], ['LAZY', 'lazy', 4], ['DOG', 'dog', 3]]\n",
      "\n",
      "\n",
      "['quick', 'brown', 'jumps']\n"
     ]
    }
   ],
   "source": [
    "words = ['The', 'quick', 'brown', 'fox', 'jumps', 'over', 'the', 'lazy', 'dog']\n",
    "\n",
    "#List in Upper Case\n",
    "newWords1 = [word.upper() for word in words]\n",
    "print(newWords1)\n",
    "print('\\n')\n",
    "\n",
    "#List in Lower Case\n",
    "newWords2 = [word.lower() for word in words]\n",
    "print(newWords2)\n",
    "print('\\n')\n",
    "\n",
    "#List of Length of words\n",
    "newWords3 = [len(word) for word in words]\n",
    "print(newWords3)\n",
    "print('\\n')\n",
    "\n",
    "#list contains the word in uppercase and lowercase and the length of the word\n",
    "newWords4 = [[word.upper(),word.lower(),len(word)] for word in words]\n",
    "print(newWords4)\n",
    "print('\\n')\n",
    "\n",
    "#list of words in list words containing 4 or more characters.\n",
    "newWords5 = [word for word in words if len(word)>4]\n",
    "print(newWords5)"
   ]
  }
 ],
 "metadata": {
  "kernelspec": {
   "display_name": "Python 3 (ipykernel)",
   "language": "python",
   "name": "python3"
  },
  "language_info": {
   "codemirror_mode": {
    "name": "ipython",
    "version": 3
   },
   "file_extension": ".py",
   "mimetype": "text/x-python",
   "name": "python",
   "nbconvert_exporter": "python",
   "pygments_lexer": "ipython3",
   "version": "3.9.12"
  }
 },
 "nbformat": 4,
 "nbformat_minor": 5
}
